{
 "cells": [
  {
   "cell_type": "code",
   "execution_count": 51,
   "id": "3ec22b4c",
   "metadata": {},
   "outputs": [
    {
     "name": "stdout",
     "output_type": "stream",
     "text": [
      "[Errno 2] No such file or directory: 'Desktop/Projects/energy-consumption-forecaster'\n",
      "/Users/alexsiebelmckenna/Desktop/Projects/energy-consumption-forecaster\n"
     ]
    }
   ],
   "source": [
    "%cd 'Desktop/Projects/energy-consumption-forecaster'"
   ]
  },
  {
   "cell_type": "code",
   "execution_count": 52,
   "id": "eabce3de",
   "metadata": {},
   "outputs": [],
   "source": [
    "from datetime import datetime\n",
    "from os import listdir\n",
    "\n",
    "import matplotlib.pyplot as plt\n",
    "import matplotlib\n",
    "import pandas as pd\n",
    "import pyarrow"
   ]
  },
  {
   "cell_type": "code",
   "execution_count": 53,
   "id": "67d8a5d0",
   "metadata": {},
   "outputs": [
    {
     "name": "stdout",
     "output_type": "stream",
     "text": [
      "20170321\n",
      "20170326\n",
      "(2578500, 3)\n"
     ]
    }
   ],
   "source": [
    "dates = listdir('data/')[0:2] # work on a subset because loading it all takes aaages\n",
    "raw = pd.DataFrame(columns = ['active_power', 'reactive_power', 'timestamp'])\n",
    "\n",
    "for date in dates:\n",
    "    print(date)\n",
    "    temp = pd.read_parquet('data/'+date+'/00_total.parquet.gzip')\n",
    "    temp['timestamp'] = temp['timestamp'].apply(lambda x: datetime.fromtimestamp(x/1000.))\n",
    "    raw = pd.concat([temp, raw])\n",
    "\n",
    "raw.head()\n",
    "print(raw.shape)"
   ]
  },
  {
   "cell_type": "code",
   "execution_count": 54,
   "id": "019b2a31",
   "metadata": {},
   "outputs": [],
   "source": [
    "raw.columns = [['active_power', 'reactive_power', 'datetime']]"
   ]
  },
  {
   "cell_type": "code",
   "execution_count": 55,
   "id": "5e96ece2",
   "metadata": {},
   "outputs": [],
   "source": [
    "raw['date'] = raw['datetime'].apply(lambda x: x.dt.date)\n",
    "raw['time'] = raw['datetime'].apply(lambda x: x.dt.time)\n",
    "raw['hour'] = raw['datetime'].apply(lambda x: x.dt.hour)\n",
    "raw['minute'] = raw['datetime'].apply(lambda x: x.dt.minute)\n",
    "raw['second'] = raw['datetime'].apply(lambda x: x.dt.second)"
   ]
  },
  {
   "cell_type": "code",
   "execution_count": 56,
   "id": "313db86f",
   "metadata": {},
   "outputs": [
    {
     "data": {
      "text/html": [
       "<div>\n",
       "<style scoped>\n",
       "    .dataframe tbody tr th:only-of-type {\n",
       "        vertical-align: middle;\n",
       "    }\n",
       "\n",
       "    .dataframe tbody tr th {\n",
       "        vertical-align: top;\n",
       "    }\n",
       "\n",
       "    .dataframe thead tr th {\n",
       "        text-align: left;\n",
       "    }\n",
       "</style>\n",
       "<table border=\"1\" class=\"dataframe\">\n",
       "  <thead>\n",
       "    <tr>\n",
       "      <th></th>\n",
       "      <th>datetime</th>\n",
       "    </tr>\n",
       "  </thead>\n",
       "  <tbody>\n",
       "    <tr>\n",
       "      <th>1287391</th>\n",
       "      <td>2017-03-25 17:00:00.646</td>\n",
       "    </tr>\n",
       "    <tr>\n",
       "      <th>1287392</th>\n",
       "      <td>2017-03-25 17:00:00.713</td>\n",
       "    </tr>\n",
       "    <tr>\n",
       "      <th>1287393</th>\n",
       "      <td>2017-03-25 17:00:00.780</td>\n",
       "    </tr>\n",
       "    <tr>\n",
       "      <th>1287394</th>\n",
       "      <td>2017-03-25 17:00:00.846</td>\n",
       "    </tr>\n",
       "    <tr>\n",
       "      <th>1287395</th>\n",
       "      <td>2017-03-25 17:00:00.913</td>\n",
       "    </tr>\n",
       "    <tr>\n",
       "      <th>1287396</th>\n",
       "      <td>2017-03-25 17:00:00.980</td>\n",
       "    </tr>\n",
       "    <tr>\n",
       "      <th>1287397</th>\n",
       "      <td>2017-03-25 17:00:01.046</td>\n",
       "    </tr>\n",
       "    <tr>\n",
       "      <th>1287398</th>\n",
       "      <td>2017-03-25 17:00:01.113</td>\n",
       "    </tr>\n",
       "    <tr>\n",
       "      <th>1287399</th>\n",
       "      <td>2017-03-25 17:00:01.180</td>\n",
       "    </tr>\n",
       "    <tr>\n",
       "      <th>1287400</th>\n",
       "      <td>2017-03-25 17:00:01.246</td>\n",
       "    </tr>\n",
       "    <tr>\n",
       "      <th>1287401</th>\n",
       "      <td>2017-03-25 17:00:01.313</td>\n",
       "    </tr>\n",
       "    <tr>\n",
       "      <th>1287402</th>\n",
       "      <td>2017-03-25 17:00:01.380</td>\n",
       "    </tr>\n",
       "    <tr>\n",
       "      <th>1287403</th>\n",
       "      <td>2017-03-25 17:00:01.446</td>\n",
       "    </tr>\n",
       "    <tr>\n",
       "      <th>1287404</th>\n",
       "      <td>2017-03-25 17:00:01.513</td>\n",
       "    </tr>\n",
       "    <tr>\n",
       "      <th>0</th>\n",
       "      <td>2017-03-25 17:00:05.570</td>\n",
       "    </tr>\n",
       "    <tr>\n",
       "      <th>1</th>\n",
       "      <td>2017-03-25 17:00:05.636</td>\n",
       "    </tr>\n",
       "    <tr>\n",
       "      <th>2</th>\n",
       "      <td>2017-03-25 17:00:05.703</td>\n",
       "    </tr>\n",
       "    <tr>\n",
       "      <th>3</th>\n",
       "      <td>2017-03-25 17:00:05.770</td>\n",
       "    </tr>\n",
       "    <tr>\n",
       "      <th>4</th>\n",
       "      <td>2017-03-25 17:00:05.836</td>\n",
       "    </tr>\n",
       "  </tbody>\n",
       "</table>\n",
       "</div>"
      ],
      "text/plain": [
       "                       datetime\n",
       "1287391 2017-03-25 17:00:00.646\n",
       "1287392 2017-03-25 17:00:00.713\n",
       "1287393 2017-03-25 17:00:00.780\n",
       "1287394 2017-03-25 17:00:00.846\n",
       "1287395 2017-03-25 17:00:00.913\n",
       "1287396 2017-03-25 17:00:00.980\n",
       "1287397 2017-03-25 17:00:01.046\n",
       "1287398 2017-03-25 17:00:01.113\n",
       "1287399 2017-03-25 17:00:01.180\n",
       "1287400 2017-03-25 17:00:01.246\n",
       "1287401 2017-03-25 17:00:01.313\n",
       "1287402 2017-03-25 17:00:01.380\n",
       "1287403 2017-03-25 17:00:01.446\n",
       "1287404 2017-03-25 17:00:01.513\n",
       "0       2017-03-25 17:00:05.570\n",
       "1       2017-03-25 17:00:05.636\n",
       "2       2017-03-25 17:00:05.703\n",
       "3       2017-03-25 17:00:05.770\n",
       "4       2017-03-25 17:00:05.836"
      ]
     },
     "execution_count": 56,
     "metadata": {},
     "output_type": "execute_result"
    }
   ],
   "source": [
    "# Downsampling\n",
    "raw['datetime'][1:20]"
   ]
  }
 ],
 "metadata": {
  "kernelspec": {
   "display_name": "Python 3 (ipykernel)",
   "language": "python",
   "name": "python3"
  },
  "language_info": {
   "codemirror_mode": {
    "name": "ipython",
    "version": 3
   },
   "file_extension": ".py",
   "mimetype": "text/x-python",
   "name": "python",
   "nbconvert_exporter": "python",
   "pygments_lexer": "ipython3",
   "version": "3.8.3"
  }
 },
 "nbformat": 4,
 "nbformat_minor": 5
}
