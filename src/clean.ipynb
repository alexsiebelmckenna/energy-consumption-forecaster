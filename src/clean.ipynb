{
 "cells": [
  {
   "cell_type": "code",
   "execution_count": 1,
   "id": "ba26344c",
   "metadata": {},
   "outputs": [],
   "source": [
    "#%cd 'Desktop/Projects/energy-consumption-forecaster'"
   ]
  },
  {
   "cell_type": "code",
   "execution_count": 11,
   "id": "ea653086",
   "metadata": {},
   "outputs": [],
   "source": [
    "from os import listdir\n",
    "\n",
    "import datetime\n",
    "import matplotlib.pyplot as plt\n",
    "import matplotlib\n",
    "import numpy as np\n",
    "import pandas as pd\n",
    "import pickle\n",
    "import pyarrow\n",
    "import re\n",
    "import seaborn\n",
    "import sys\n",
    "import time"
   ]
  },
  {
   "cell_type": "code",
   "execution_count": 12,
   "id": "1d78970c",
   "metadata": {},
   "outputs": [],
   "source": [
    "def listdir_remove(path, string='.DS_Store', sort=True):\n",
    "    # List directories in path and remove string(s) if string(s) exist in directory list\n",
    "    # Intended for OS-specific files (e.g. .DS_Store on Macs, which is the default)\n",
    "    listed = listdir(path)\n",
    "    if string in listed:\n",
    "        listed.remove(string)\n",
    "    if sort:\n",
    "        listed = sorted(listed)\n",
    "    return listed\n",
    "\n",
    "def data_process(path, house, date, file):\n",
    "    file_num = re.findall(r'(.*?)\\_', file)[0]\n",
    "    filetype = re.findall(r'\\_(.*?)\\.', file)[0]\n",
    "    data = pd.read_parquet(\n",
    "        path + house + '/' + date + '/' + file\n",
    "    )\n",
    "    # Format timestamp column\n",
    "    data['timestamp'] = data['timestamp'].apply(lambda x: datetime.datetime.fromtimestamp(x/1000.))\n",
    "    # Add house column\n",
    "    data['house'] = house\n",
    "    # Add appliance column\n",
    "    if file_num not in ['03', '05']:\n",
    "        data['appliance'] = filetype\n",
    "    if file_num == '03':\n",
    "        data['appliance'] = 'fridge_1'\n",
    "    if file_num == '05':\n",
    "        data['appliance'] = 'fridge_2'\n",
    "    return data\n",
    "\n",
    "def gather_data(path):\n",
    "    # Start time\n",
    "    start = time.time()\n",
    "    \n",
    "    # List all houses available in path ('00', '01', ...)\n",
    "    houses = listdir_remove(path)\n",
    "\n",
    "    for house in houses:\n",
    "        # List all dates available in path ('20170113', '20170114', ...)\n",
    "        dates = listdir_remove(path=path+house)\n",
    "\n",
    "        for date in dates:\n",
    "            print(f\"Trying to read file {date} | File {dates.index(date)+1}/{len(dates)}\")\n",
    "            # List all files available in path ('00_total.parquet.gzip','02_washing-machine.parquet.gzip', ...)\n",
    "            files = listdir_remove(path=path+house+'/'+date)\n",
    "            \n",
    "            for file in files:\n",
    "            \n",
    "                # Initialize empty DataFrame if first iteration\n",
    "                if (files.index(file) == 0):\n",
    "                    raw = data_process(path=path, house=house, date=date, file=file)\n",
    "            \n",
    "                data = data_process(path=path, house=house, date=date, file=file)\n",
    "                raw = pd.concat([raw, data])\n",
    "                \n",
    "                pickle_out = open(\"../data/intermediate/\"+house+\"_\"+date+\".pkl\", \"wb\")\n",
    "                pickle.dump(raw, pickle_out)\n",
    "                pickle_out.close()\n",
    "                \n",
    "    end = time.time()\n",
    "    time_elapsed = end - start\n",
    "    print(f\"Time elapsed: {str(datetime.timedelta(seconds=time_elapsed))}\")\n",
    "    return raw"
   ]
  },
  {
   "cell_type": "code",
   "execution_count": 13,
   "id": "9ddbf7ad",
   "metadata": {},
   "outputs": [
    {
     "name": "stdout",
     "output_type": "stream",
     "text": [
      "Trying to read file 20161101 | File 1/87\n",
      "Trying to read file 20161102 | File 2/87\n",
      "Trying to read file 20161103 | File 3/87\n",
      "Trying to read file 20161104 | File 4/87\n"
     ]
    },
    {
     "ename": "KeyboardInterrupt",
     "evalue": "",
     "output_type": "error",
     "traceback": [
      "\u001b[0;31m---------------------------------------------------------------------------\u001b[0m",
      "\u001b[0;31mKeyboardInterrupt\u001b[0m                         Traceback (most recent call last)",
      "\u001b[0;32m<ipython-input-13-6ba2f2f5c6be>\u001b[0m in \u001b[0;36m<module>\u001b[0;34m\u001b[0m\n\u001b[0;32m----> 1\u001b[0;31m \u001b[0mraw\u001b[0m \u001b[0;34m=\u001b[0m \u001b[0mgather_data\u001b[0m\u001b[0;34m(\u001b[0m\u001b[0;34m'../data/enertalk-dataset/'\u001b[0m\u001b[0;34m)\u001b[0m\u001b[0;34m\u001b[0m\u001b[0;34m\u001b[0m\u001b[0m\n\u001b[0m",
      "\u001b[0;32m<ipython-input-12-257ea1a338db>\u001b[0m in \u001b[0;36mgather_data\u001b[0;34m(path)\u001b[0m\n\u001b[1;32m     54\u001b[0m \u001b[0;34m\u001b[0m\u001b[0m\n\u001b[1;32m     55\u001b[0m                 \u001b[0mpickle_out\u001b[0m \u001b[0;34m=\u001b[0m \u001b[0mopen\u001b[0m\u001b[0;34m(\u001b[0m\u001b[0;34m\"../data/intermediate/\"\u001b[0m\u001b[0;34m+\u001b[0m\u001b[0mhouse\u001b[0m\u001b[0;34m+\u001b[0m\u001b[0;34m\"_\"\u001b[0m\u001b[0;34m+\u001b[0m\u001b[0mdate\u001b[0m\u001b[0;34m+\u001b[0m\u001b[0;34m\".pkl\"\u001b[0m\u001b[0;34m,\u001b[0m \u001b[0;34m\"wb\"\u001b[0m\u001b[0;34m)\u001b[0m\u001b[0;34m\u001b[0m\u001b[0;34m\u001b[0m\u001b[0m\n\u001b[0;32m---> 56\u001b[0;31m                 \u001b[0mpickle\u001b[0m\u001b[0;34m.\u001b[0m\u001b[0mdump\u001b[0m\u001b[0;34m(\u001b[0m\u001b[0mraw\u001b[0m\u001b[0;34m,\u001b[0m \u001b[0mpickle_out\u001b[0m\u001b[0;34m)\u001b[0m\u001b[0;34m\u001b[0m\u001b[0;34m\u001b[0m\u001b[0m\n\u001b[0m\u001b[1;32m     57\u001b[0m                 \u001b[0mpickle_out\u001b[0m\u001b[0;34m.\u001b[0m\u001b[0mclose\u001b[0m\u001b[0;34m(\u001b[0m\u001b[0;34m)\u001b[0m\u001b[0;34m\u001b[0m\u001b[0;34m\u001b[0m\u001b[0m\n\u001b[1;32m     58\u001b[0m \u001b[0;34m\u001b[0m\u001b[0m\n",
      "\u001b[0;32m~/opt/anaconda3/envs/venv/lib/python3.6/site-packages/pandas/core/indexes/base.py\u001b[0m in \u001b[0;36m__reduce__\u001b[0;34m(self)\u001b[0m\n\u001b[1;32m   2015\u001b[0m     \u001b[0;31m# Pickle Methods\u001b[0m\u001b[0;34m\u001b[0m\u001b[0;34m\u001b[0m\u001b[0;34m\u001b[0m\u001b[0m\n\u001b[1;32m   2016\u001b[0m \u001b[0;34m\u001b[0m\u001b[0m\n\u001b[0;32m-> 2017\u001b[0;31m     \u001b[0;32mdef\u001b[0m \u001b[0m__reduce__\u001b[0m\u001b[0;34m(\u001b[0m\u001b[0mself\u001b[0m\u001b[0;34m)\u001b[0m\u001b[0;34m:\u001b[0m\u001b[0;34m\u001b[0m\u001b[0;34m\u001b[0m\u001b[0m\n\u001b[0m\u001b[1;32m   2018\u001b[0m         \u001b[0md\u001b[0m \u001b[0;34m=\u001b[0m \u001b[0mdict\u001b[0m\u001b[0;34m(\u001b[0m\u001b[0mdata\u001b[0m\u001b[0;34m=\u001b[0m\u001b[0mself\u001b[0m\u001b[0;34m.\u001b[0m\u001b[0m_data\u001b[0m\u001b[0;34m)\u001b[0m\u001b[0;34m\u001b[0m\u001b[0;34m\u001b[0m\u001b[0m\n\u001b[1;32m   2019\u001b[0m         \u001b[0md\u001b[0m\u001b[0;34m.\u001b[0m\u001b[0mupdate\u001b[0m\u001b[0;34m(\u001b[0m\u001b[0mself\u001b[0m\u001b[0;34m.\u001b[0m\u001b[0m_get_attributes_dict\u001b[0m\u001b[0;34m(\u001b[0m\u001b[0;34m)\u001b[0m\u001b[0;34m)\u001b[0m\u001b[0;34m\u001b[0m\u001b[0;34m\u001b[0m\u001b[0m\n",
      "\u001b[0;31mKeyboardInterrupt\u001b[0m: "
     ]
    }
   ],
   "source": [
    "raw = gather_data('../data/enertalk-dataset/')"
   ]
  }
 ],
 "metadata": {
  "kernelspec": {
   "display_name": "Python 3",
   "language": "python",
   "name": "python3"
  },
  "language_info": {
   "codemirror_mode": {
    "name": "ipython",
    "version": 3
   },
   "file_extension": ".py",
   "mimetype": "text/x-python",
   "name": "python",
   "nbconvert_exporter": "python",
   "pygments_lexer": "ipython3",
   "version": "3.6.15"
  }
 },
 "nbformat": 4,
 "nbformat_minor": 5
}
